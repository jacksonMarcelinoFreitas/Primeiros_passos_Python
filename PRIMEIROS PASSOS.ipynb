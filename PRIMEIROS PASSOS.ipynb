{
 "cells": [
  {
   "cell_type": "code",
   "execution_count": 16,
   "id": "9a53b7b7",
   "metadata": {
    "slideshow": {
     "slide_type": "-"
    }
   },
   "outputs": [
    {
     "name": "stdout",
     "output_type": "stream",
     "text": [
      " Meu primeiro programa em Python!  - Jackson\n",
      " Outras coisas também podem ser adicionadas \n"
     ]
    }
   ],
   "source": [
    "print(' Meu primeiro programa em Python!  - Jackson')\n",
    "print(' Outras coisas também podem ser adicionadas ')\n",
    "#Executar com Ctrl + Enter"
   ]
  },
  {
   "cell_type": "code",
   "execution_count": 24,
   "id": "1e957466",
   "metadata": {},
   "outputs": [
    {
     "name": "stdout",
     "output_type": "stream",
     "text": [
      "<class 'int'>\n",
      "<class 'float'>\n",
      "<class 'str'>\n"
     ]
    }
   ],
   "source": [
    "# Tipos de dados \n",
    "\n",
    "#Declarando variáveis\n",
    "t1 = 3\n",
    "t2 = 3.0\n",
    "t3 = '3.0'\n",
    "t4 = True\n",
    "t5 = False\n",
    "\n",
    "#Mostrando tipos \n",
    "print(type(t1))\n",
    "print(type(t2))\n",
    "print(type(t3))"
   ]
  },
  {
   "cell_type": "code",
   "execution_count": 26,
   "id": "9b639139",
   "metadata": {},
   "outputs": [
    {
     "name": "stdout",
     "output_type": "stream",
     "text": [
      "6.0\n"
     ]
    }
   ],
   "source": [
    "#Soma\n",
    "soma = t1 + t2\n",
    "print(soma)"
   ]
  },
  {
   "cell_type": "code",
   "execution_count": 32,
   "id": "e1b8e24c",
   "metadata": {},
   "outputs": [
    {
     "name": "stdout",
     "output_type": "stream",
     "text": [
      "Meu nome é Ackley\n",
      "Meu nome é 3\n"
     ]
    }
   ],
   "source": [
    "#Concatenando \n",
    "nome = \"Ackley\"\n",
    "print(\"Meu nome é \" + nome)\n",
    "\n",
    "#Transformando int em String\n",
    "nome = \"Ackley\"\n",
    "print(\"Meu nome é \" + str(t1))\n"
   ]
  },
  {
   "cell_type": "code",
   "execution_count": 1,
   "id": "23cef6b6",
   "metadata": {},
   "outputs": [
    {
     "name": "stdout",
     "output_type": "stream",
     "text": [
      " Aqui tem uma \n",
      " quebra de linha \n",
      "\n",
      " Aqui tem \t uma tabulação\n"
     ]
    }
   ],
   "source": [
    "print(\" Aqui tem uma \\n quebra de linha \\n\")\n",
    "print(\" Aqui tem \\t uma tabulação\")"
   ]
  },
  {
   "cell_type": "code",
   "execution_count": 171,
   "id": "fffa99eb",
   "metadata": {},
   "outputs": [
    {
     "name": "stdout",
     "output_type": "stream",
     "text": [
      "Nome: Jackson - RG: 461431 - Altura: 4\n"
     ]
    }
   ],
   "source": [
    "#Atribuindo variáveis e mostrando\n",
    "import random as rd\n",
    "nome = \"Jackson\"\n",
    "RG = rd.randint(2, 1000000)\n",
    "altura = rd.randint(1, 5)\n",
    "print (\"Nome: %s - RG: %d - Altura: %.0f\"%(nome, RG, altura))\n"
   ]
  },
  {
   "cell_type": "code",
   "execution_count": 174,
   "id": "37d8e90d",
   "metadata": {},
   "outputs": [
    {
     "name": "stdout",
     "output_type": "stream",
     "text": [
      " Qual o seu nome?jackson\n",
      "Qual a sua idade?18\n",
      "Qual a duração do seu curso?4\n",
      "jackson, você vai terminar o curso com 22 anos\n"
     ]
    }
   ],
   "source": [
    "#Criação, armazenamento e mostra da mensagem e resposta\n",
    "#Transformação de string para inteiro\n",
    "nome = input (\" Qual o seu nome?\")\n",
    "idade = int(input(\"Qual a sua idade?\"))\n",
    "duracao = int(input(\"Qual a duração do seu curso?\"))\n",
    "finalCurso = idade + duracao \n",
    "print(nome + \", você vai terminar o curso com %s anos\"%(finalCurso))"
   ]
  },
  {
   "cell_type": "code",
   "execution_count": 10,
   "id": "15f5ce65",
   "metadata": {},
   "outputs": [
    {
     "name": "stdout",
     "output_type": "stream",
     "text": [
      "JACKSON\n",
      "jackson\n"
     ]
    }
   ],
   "source": [
    "#Formatação de Strings - MAIUSCULAS, minusculas\n",
    "print(nome.upper())\n",
    "print(nome.lower())"
   ]
  },
  {
   "cell_type": "code",
   "execution_count": 201,
   "id": "5fb3c898",
   "metadata": {},
   "outputs": [
    {
     "name": "stdout",
     "output_type": "stream",
     "text": [
      " fabio story\n"
     ]
    }
   ],
   "source": [
    "novoNome = ' FaBio StoRY'\n",
    "nome3 = novoNome.capitalize()\n",
    "print(nome3)"
   ]
  },
  {
   "cell_type": "code",
   "execution_count": null,
   "id": "3ed7c1f5",
   "metadata": {},
   "outputs": [],
   "source": []
  },
  {
   "cell_type": "code",
   "execution_count": null,
   "id": "d593cc19",
   "metadata": {},
   "outputs": [],
   "source": []
  }
 ],
 "metadata": {
  "celltoolbar": "Attachments",
  "kernelspec": {
   "display_name": "Python 3 (ipykernel)",
   "language": "python",
   "name": "python3"
  },
  "language_info": {
   "codemirror_mode": {
    "name": "ipython",
    "version": 3
   },
   "file_extension": ".py",
   "mimetype": "text/x-python",
   "name": "python",
   "nbconvert_exporter": "python",
   "pygments_lexer": "ipython3",
   "version": "3.9.6"
  }
 },
 "nbformat": 4,
 "nbformat_minor": 5
}
